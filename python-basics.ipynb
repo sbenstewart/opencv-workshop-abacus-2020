{
 "cells": [
  {
   "cell_type": "code",
   "execution_count": 1,
   "metadata": {},
   "outputs": [
    {
     "name": "stdout",
     "output_type": "stream",
     "text": [
      "Hello World\n"
     ]
    }
   ],
   "source": [
    "# this is a code cell, and, specifically, this is a Python comment\n",
    "print(\"Hello World\")"
   ]
  },
  {
   "cell_type": "code",
   "execution_count": 2,
   "metadata": {},
   "outputs": [],
   "source": [
    "a='text'\n",
    "a?"
   ]
  },
  {
   "cell_type": "code",
   "execution_count": 3,
   "metadata": {},
   "outputs": [
    {
     "name": "stdout",
     "output_type": "stream",
     "text": [
      "[1, 2, 3, 4, 5]\n",
      "(1, 2, 3, 4, 5)\n"
     ]
    }
   ],
   "source": [
    "l = [1,2,3,4,5] #this is a list (square brackets)\n",
    "t = (1,2,3,4,5) #this is a tuple (round brackets)\n",
    "print(l)\n",
    "print(t)"
   ]
  },
  {
   "cell_type": "code",
   "execution_count": 4,
   "metadata": {},
   "outputs": [
    {
     "name": "stdout",
     "output_type": "stream",
     "text": [
      "1 3\n",
      "1 4\n",
      "[8, 2, 3, 4, 5]\n"
     ]
    }
   ],
   "source": [
    "print(l[0],l[2])\n",
    "print(t[0],t[3])\n",
    "l[0]=8\n",
    "print(l)"
   ]
  },
  {
   "cell_type": "code",
   "execution_count": 5,
   "metadata": {},
   "outputs": [
    {
     "name": "stdout",
     "output_type": "stream",
     "text": [
      "This will raise an exception!\n"
     ]
    }
   ],
   "source": [
    "try:\n",
    "    t[2]=5 #this will yield an error since tuples are immutable\n",
    "except:\n",
    "    print(\"This will raise an exception!\")"
   ]
  },
  {
   "cell_type": "code",
   "execution_count": 6,
   "metadata": {},
   "outputs": [],
   "source": [
    "t=(1)\n",
    "t?"
   ]
  },
  {
   "cell_type": "code",
   "execution_count": 7,
   "metadata": {},
   "outputs": [],
   "source": [
    "t=(1,)\n",
    "t?"
   ]
  },
  {
   "cell_type": "code",
   "execution_count": 8,
   "metadata": {},
   "outputs": [
    {
     "name": "stdout",
     "output_type": "stream",
     "text": [
      "[4, 5, 6, 7, 4, 8, 2, 4]\n",
      "(1, 2, 3, 4, 5, 6, 7, 8)\n"
     ]
    }
   ],
   "source": [
    "l=[1,2,3,4,5,6,7,8]\n",
    "t=(4,5,6,7,4,8,2,4)\n",
    "ttl = list(t)\n",
    "ltt = tuple(l)\n",
    "\n",
    "print(ttl)\n",
    "print(ltt)"
   ]
  },
  {
   "cell_type": "code",
   "execution_count": 9,
   "metadata": {},
   "outputs": [
    {
     "name": "stdout",
     "output_type": "stream",
     "text": [
      "t[0:3]      -> (4, 5, 6)\n",
      "l[1:3]      -> [2]\n",
      "t[0:]       -> (5, 6, 7, 4, 8, 2, 4)\n",
      "l[:2]       -> [1, 2]\n",
      "t[0:7:1]    -> (4, 5, 6, 7, 4, 8, 2, 4)\n",
      "l[0:7:2]    -> [1, 3, 5, 7]\n",
      "t[::2]      -> (4, 6, 4, 2)\n",
      "l[-1]       -> 8\n",
      "t[-2]       -> 2\n",
      "l[-5]       -> 4\n",
      "t[-3:]      -> (8, 2, 4)\n",
      "l[:-3]      -> [1, 2, 3, 4, 5]\n",
      "t[-1:-5:-1] -> (4, 2, 8, 4)\n",
      "l[-1:0:-1]  -> [8, 7, 6, 5, 4, 3, 2]\n",
      "l[::-1]     -> [8, 7, 6, 5, 4, 3, 2, 1]\n"
     ]
    }
   ],
   "source": [
    "print (\"t[0:3]      ->\", t[0:3]) #from index 0 (included) to index 3 (excluded)\n",
    "print (\"l[1:3]      ->\", l[1:2]) #from index 1 (included) to index 2 (excluded)\n",
    "print (\"t[0:]       ->\", t[1:]) #from index 1 (included) to the last index (second index is omitted)\n",
    "print (\"l[:2]       ->\", l[:2]) #from index 0 (omitted) to index 2 (excluded)\n",
    "print (\"t[0:7:1]    ->\", t[0:8:1]) #from index 0 (included) to index 8 (excluded) at a step of 1 (i.e., all numbers)\n",
    "print (\"l[0:7:2]    ->\", l[0:8:2]) #from index 0 (included) to index 8 (excluded) at a step of 2 (i.e., every other number)\n",
    "print (\"t[::2]      ->\", t[::2]) #from index 0 (omitted) to index 8 (omitted) at a step of 2 (equivalent to the previous one)\n",
    "print (\"l[-1]       ->\", l[-1]) #last number\n",
    "print (\"t[-2]       ->\", t[-2]) #second-last numebr\n",
    "print (\"l[-5]       ->\", l[-5]) #fifth-last numebr\n",
    "print (\"t[-3:]      ->\", t[-3:]) #last three number\n",
    "print (\"l[:-3]      ->\", l[:-3]) #from index 0 (omitted) to third-last index (excluded)\n",
    "print (\"t[-1:-5:-1] ->\", t[-1:-5:-1]) #from the penultimate index to the fifth-last index (excluded) at a step of -1\n",
    "print (\"l[-1:0:-1]  ->\", l[-1:0:-1]) #from the penultimate index to index 0 (excluded) at a step of -1\n",
    "print (\"l[::-1]     ->\", l[::-1]) #reverse the list"
   ]
  },
  {
   "cell_type": "code",
   "execution_count": 10,
   "metadata": {},
   "outputs": [
    {
     "name": "stdout",
     "output_type": "stream",
     "text": [
      "cool!\n",
      "cool again :)\n",
      "true\n",
      "5>4\n"
     ]
    }
   ],
   "source": [
    "true_condition = True\n",
    "false_condition = False\n",
    "\n",
    "if true_condition: #always remeber about the colon\n",
    "    print (\"cool!\") #indentation here is mandatory\n",
    "    \n",
    "if false_condition: #false condition should not fire\n",
    "    print (\"not cool :(\")\n",
    "    \n",
    "if not false_condition: #negate boolean value using \"not\"\n",
    "    print (\"cool again :)\")\n",
    "    \n",
    "if false_condition:\n",
    "    print (\"false\")\n",
    "else: #note indentation and colon here\n",
    "    print (\"true\")\n",
    "    \n",
    "if false_condition:\n",
    "    print (\"false\")\n",
    "elif 5>4: #\"else if\" is abbreviated as \"elif\"\n",
    "    print (\"5>4\")\n",
    "else:\n",
    "    print (\"4<5??\")"
   ]
  },
  {
   "cell_type": "code",
   "execution_count": 11,
   "metadata": {},
   "outputs": [
    {
     "name": "stdout",
     "output_type": "stream",
     "text": [
      "5 in l\n"
     ]
    }
   ],
   "source": [
    "l=[1,6,2,5,7]\n",
    "\n",
    "if 5 in l:\n",
    "    print (\"5 in l\")\n",
    "    \n",
    "if 8 in l:\n",
    "    print (\"8 in l\")"
   ]
  },
  {
   "cell_type": "code",
   "execution_count": 12,
   "metadata": {},
   "outputs": [
    {
     "name": "stdout",
     "output_type": "stream",
     "text": [
      "0\n",
      "1\n",
      "2\n",
      "3\n",
      "4\n"
     ]
    }
   ],
   "source": [
    "i=0\n",
    "while i<5: #colon\n",
    "    print (i) #indentation\n",
    "    i+=1"
   ]
  },
  {
   "cell_type": "code",
   "execution_count": 13,
   "metadata": {},
   "outputs": [
    {
     "name": "stdout",
     "output_type": "stream",
     "text": [
      "1\n",
      "7\n",
      "2\n",
      "5\n"
     ]
    }
   ],
   "source": [
    "l=[1,7,2,5]\n",
    "for v in l:\n",
    "    print (v)"
   ]
  },
  {
   "cell_type": "code",
   "execution_count": 14,
   "metadata": {},
   "outputs": [
    {
     "name": "stdout",
     "output_type": "stream",
     "text": [
      "0\n",
      "1\n",
      "2\n",
      "3\n",
      "4\n"
     ]
    }
   ],
   "source": [
    "for i in range(5):\n",
    "    print (i)"
   ]
  },
  {
   "cell_type": "code",
   "execution_count": 15,
   "metadata": {},
   "outputs": [
    {
     "name": "stdout",
     "output_type": "stream",
     "text": [
      "0 -> 1\n",
      "1 -> 7\n",
      "2 -> 2\n",
      "3 -> 4\n",
      "4 -> 5\n"
     ]
    }
   ],
   "source": [
    "array=[1,7,2,4,5] \n",
    "for i in range(len(array)): #standard notation\n",
    "    print (i,\"->\",array[i])"
   ]
  },
  {
   "cell_type": "code",
   "execution_count": 16,
   "metadata": {},
   "outputs": [
    {
     "name": "stdout",
     "output_type": "stream",
     "text": [
      "0 -> 1\n",
      "1 -> 7\n",
      "2 -> 2\n",
      "3 -> 4\n",
      "4 -> 5\n"
     ]
    }
   ],
   "source": [
    "for index,value in enumerate(array): #get both index and value\n",
    "    print (index,\"->\",value)"
   ]
  },
  {
   "cell_type": "code",
   "execution_count": 17,
   "metadata": {},
   "outputs": [
    {
     "name": "stdout",
     "output_type": "stream",
     "text": [
      "1 1\n",
      "6 8\n",
      "2 2\n",
      "5 7\n"
     ]
    }
   ],
   "source": [
    "a1=[1,6,2,5]\n",
    "a2=[1,8,2,7]\n",
    "\n",
    "for v1,v2 in zip(a1,a2): #iterate twi arrays at once!\n",
    "    print (v1,v2)"
   ]
  },
  {
   "cell_type": "code",
   "execution_count": 18,
   "metadata": {},
   "outputs": [],
   "source": [
    "import numpy as np #now we can reference numpy simply by \"np\""
   ]
  },
  {
   "cell_type": "code",
   "execution_count": 19,
   "metadata": {},
   "outputs": [
    {
     "name": "stdout",
     "output_type": "stream",
     "text": [
      "List of lists: [[1, 2, 3], [4, 5, 2], [1, 8, 3]]\n",
      "Numpy array:\n",
      " [[1 2 3]\n",
      " [4 5 2]\n",
      " [1 8 3]]\n",
      "Numpy array from tuple: [1 2 3]\n"
     ]
    }
   ],
   "source": [
    "l = [[1,2,3],[4,5,2],[1,8,3]] #this is a list of lists\n",
    "print (\"List of lists:\",l)\n",
    "a = np.array(l) #this is a numpy array\n",
    "print (\"Numpy array:\\n\",a)\n",
    "print (\"Numpy array from tuple:\",np.array((1,2,3)))"
   ]
  },
  {
   "cell_type": "code",
   "execution_count": 20,
   "metadata": {},
   "outputs": [
    {
     "name": "stdout",
     "output_type": "stream",
     "text": [
      "Array: [1 2 3 4]\n",
      "Array: [5 2 1 4]\n",
      "Matrix:\n",
      " [[1 2 3 4]\n",
      " [5 4 2 3]\n",
      " [7 5 3 2]\n",
      " [0 2 3 1]]\n",
      "matrix:\n",
      " [[8 2 3 1]\n",
      " [1 5 3 6]\n",
      " [1 2 7 5]\n",
      " [4 5 2 1]]\n"
     ]
    }
   ],
   "source": [
    "a1 = np.array([1,2,3,4]) #this is a numpy array\n",
    "a2 = np.array([5,2,1,4]) #another numpy array\n",
    "m1 = np.array([[1,2,3,4],[5,4,2,3],[7,5,3,2],[0,2,3,1]]) #this is a numpy 4x4 matrix\n",
    "m2 = np.array([[8,2,3,1],[1,5,3,6],[1,2,7,5],[4,5,2,1]]) #another numpy 4x4 matrix\n",
    "print ('Array:',a1)\n",
    "print ('Array:',a2)\n",
    "print ('Matrix:\\n',m1)\n",
    "print ('matrix:\\n',m2)"
   ]
  },
  {
   "cell_type": "code",
   "execution_count": 21,
   "metadata": {},
   "outputs": [
    {
     "name": "stdout",
     "output_type": "stream",
     "text": [
      "Shape: (4,)\n",
      "Shape: (4,)\n",
      "Sum: [6 4 4 8]\n",
      "Elementwise multiplication: [ 5  4  3 16]\n",
      "Power of two: [ 1  4  9 16]\n",
      "Elementwise power: [  1   4   3 256]\n",
      "Vector product: 28\n",
      "Minimum: 1\n",
      "Maximum: 4\n",
      "Sum: 12\n",
      "Mean: 2.5\n"
     ]
    }
   ],
   "source": [
    "print (\"Shape:\",a1.shape) #print the array shape\n",
    "print (\"Shape:\",a2.shape) #vectors are monodimensional array of 4 elements\n",
    "print (\"Sum:\",a1+a2) #vector sum\n",
    "print (\"Elementwise multiplication:\",a1*a2) #elementwise multiplication\n",
    "print (\"Power of two:\",a1**2) #power of two\n",
    "print (\"Elementwise power:\",a1**a2) #elementwise power operation\n",
    "print (\"Vector product:\",a1.dot(a2)) #vector product\n",
    "print (\"Minimum:\",a1.min()) #array minumum\n",
    "print (\"Maximum:\",a1.max()) #array maximum\n",
    "print (\"Sum:\",a2.sum()) #sum of all values\n",
    "print (\"Mean:\",a1.mean()) #array mean"
   ]
  },
  {
   "cell_type": "code",
   "execution_count": 22,
   "metadata": {},
   "outputs": [
    {
     "name": "stdout",
     "output_type": "stream",
     "text": [
      "Shape: (4, 4)\n",
      "Shape: (4, 4)\n",
      "Sum: [[ 9  4  6  5]\n",
      " [ 6  9  5  9]\n",
      " [ 8  7 10  7]\n",
      " [ 4  7  5  2]]\n",
      "Elementwise product: [[ 8  4  9  4]\n",
      " [ 5 20  6 18]\n",
      " [ 7 10 21 10]\n",
      " [ 0 10  6  1]]\n",
      "Power of two: [[ 1  4  9 16]\n",
      " [25 16  4  9]\n",
      " [49 25  9  4]\n",
      " [ 0  4  9  1]]\n",
      "Elementwise power: [[   1    4   27    4]\n",
      " [   5 1024    8  729]\n",
      " [   7   25 2187   32]\n",
      " [   0   32    9    1]]\n",
      "Matrix multiplication: [[29 38 38 32]\n",
      " [58 49 47 42]\n",
      " [72 55 61 54]\n",
      " [ 9 21 29 28]]\n",
      "Minimum: 0\n",
      "Maximum: 7\n",
      "Minimum along columns: [0 2 2 1]\n",
      "Minimum along rows: [1 2 2 0]\n",
      "Sum: 47\n",
      "Mean: 2.9375\n",
      "Diagonal: [1 4 3 1]\n"
     ]
    }
   ],
   "source": [
    "print (\"Shape:\",m1.shape) #matrix shape\n",
    "print (\"Shape:\",m2.shape) #matrices are 4x4\n",
    "print (\"Sum:\",m1+m2) #sum\n",
    "print (\"Elementwise product:\",m1*m2) #elementwise product\n",
    "print (\"Power of two:\",m1**2) #power of two\n",
    "print (\"Elementwise power:\",m1**m2) #elementwise power\n",
    "print (\"Matrix multiplication:\",m1.dot(m2)) #matrix multiplication\n",
    "print (\"Minimum:\",m1.min()) #minumum\n",
    "print (\"Maximum:\",m1.max()) #maximum\n",
    "print (\"Minimum along columns:\",m1.min(0)) #minumum along columns\n",
    "print (\"Minimum along rows:\",m1.min(1)) #minimum along rows\n",
    "print (\"Sum:\",m1.sum()) #mean value\n",
    "print (\"Mean:\",m1.mean()) #mean value\n",
    "print (\"Diagonal:\",m1.diagonal()) #diagonal of the matrix"
   ]
  },
  {
   "cell_type": "code",
   "execution_count": 23,
   "metadata": {},
   "outputs": [
    {
     "name": "stdout",
     "output_type": "stream",
     "text": [
      "int64\n",
      "float64\n"
     ]
    }
   ],
   "source": [
    "a=np.array([0,1,2,3,4])\n",
    "b=np.array([0.2,0.5,2,0.8])\n",
    "\n",
    "print (a.dtype) #array of integers\n",
    "print (b.dtype) #array of floats"
   ]
  },
  {
   "cell_type": "code",
   "execution_count": 24,
   "metadata": {},
   "outputs": [
    {
     "name": "stdout",
     "output_type": "stream",
     "text": [
      "mat[0,0]   -> 1\n",
      "mat[2][1]  -> 5\n",
      "mat[0]     ->  [1 5 2 7]\n",
      "mat[:,0]   ->  [1 2 1]\n",
      "mat[0,:]   -> [1 5 2 7]\n",
      "mat[0:2,:] ->\n",
      " [[1 5 2 7]\n",
      " [2 7 3 2]]\n",
      "mat[:,0:2] ->\n",
      " [[1 5]\n",
      " [2 7]\n",
      " [1 5]]\n",
      "mat[-1]    -> [1 5 2 1]\n"
     ]
    }
   ],
   "source": [
    "mat = np.array(([1,5,2,7],[2,7,3,2],[1,5,2,1]))\n",
    "print (\"mat[0,0]   ->\",mat[0,0]) #first row, first column\n",
    "print (\"mat[2][1]  ->\",mat[2][1]) #third row, second column (alternate notation)\n",
    "print (\"mat[0]     -> \",mat[0]) #first row of mat\n",
    "print (\"mat[:,0]   -> \",mat[:,0]) #first column of mat. The \":\" notation means \"leave everything unchanged along this dimension\"\n",
    "print (\"mat[0,:]   ->\",mat[0,:]) #first row of mat (alternate notation)\n",
    "print (\"mat[0:2,:] ->\\n\",mat[0:2,:]) #first two rows of mat\n",
    "print (\"mat[:,0:2] ->\\n\",mat[:,0:2]) #first two columns of mat\n",
    "print (\"mat[-1]    ->\",mat[-1]) #last row of mat"
   ]
  },
  {
   "cell_type": "code",
   "execution_count": 25,
   "metadata": {},
   "outputs": [
    {
     "name": "stdout",
     "output_type": "stream",
     "text": [
      "(3, 3, 2)\n"
     ]
    }
   ],
   "source": [
    "mat=np.array([[[1,2],[2,3],[1,2]],\n",
    "              [[5,2],[-1,4],[0,2]],\n",
    "              [[0,5],[2,-3],[2,1]]])\n",
    "print (mat.shape)"
   ]
  },
  {
   "cell_type": "code",
   "execution_count": 26,
   "metadata": {},
   "outputs": [
    {
     "name": "stdout",
     "output_type": "stream",
     "text": [
      "mat[:,:,0] -> [[ 1  2  1]\n",
      " [ 5 -1  0]\n",
      " [ 0  2  2]]\n",
      "mat[:,:,1] -> [[ 2  3  2]\n",
      " [ 2  4  2]\n",
      " [ 5 -3  1]]\n",
      "mat[...,0] -> [[ 1  2  1]\n",
      " [ 5 -1  0]\n",
      " [ 0  2  2]]\n",
      "mat[...,1] -> [[ 2  3  2]\n",
      " [ 2  4  2]\n",
      " [ 5 -3  1]]\n"
     ]
    }
   ],
   "source": [
    "print (\"mat[:,:,0] ->\", mat[:,:,0]) #3 x 3 matrix contained in the \"first channel\" of the tensor\n",
    "print (\"mat[:,:,1] ->\",mat[:,:,1]) #3 x 3 matrix contained in the \"second channel\" of the tensor\n",
    "print (\"mat[...,0] ->\", mat[...,0]) #3 x 3 matrix contained in the \"first channel\" of the tensor (alternate notation)\n",
    "print (\"mat[...,1] ->\",mat[...,1]) #3 x 3 matrix contained in the \"second channel\" of the tensor (alternate notation)"
   ]
  },
  {
   "cell_type": "code",
   "execution_count": null,
   "metadata": {},
   "outputs": [],
   "source": []
  }
 ],
 "metadata": {
  "kernelspec": {
   "display_name": "Python 3",
   "language": "python",
   "name": "python3"
  },
  "language_info": {
   "codemirror_mode": {
    "name": "ipython",
    "version": 3
   },
   "file_extension": ".py",
   "mimetype": "text/x-python",
   "name": "python",
   "nbconvert_exporter": "python",
   "pygments_lexer": "ipython3",
   "version": "3.7.3"
  }
 },
 "nbformat": 4,
 "nbformat_minor": 2
}
